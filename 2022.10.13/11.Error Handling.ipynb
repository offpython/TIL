{
 "cells": [
  {
   "cell_type": "code",
   "execution_count": 1,
   "id": "a810dcdf",
   "metadata": {},
   "outputs": [
    {
     "ename": "ZeroDivisionError",
     "evalue": "division by zero",
     "output_type": "error",
     "traceback": [
      "\u001b[0;31m---------------------------------------------------------------------------\u001b[0m",
      "\u001b[0;31mZeroDivisionError\u001b[0m                         Traceback (most recent call last)",
      "\u001b[0;32m/var/folders/93/7k3h7y912r908nn6zty4dmrr0000gn/T/ipykernel_32927/2775714582.py\u001b[0m in \u001b[0;36m<module>\u001b[0;34m\u001b[0m\n\u001b[0;32m----> 1\u001b[0;31m \u001b[0ma\u001b[0m \u001b[0;34m=\u001b[0m \u001b[0;36m12\u001b[0m \u001b[0;34m/\u001b[0m \u001b[0;36m0\u001b[0m\u001b[0;34m\u001b[0m\u001b[0;34m\u001b[0m\u001b[0m\n\u001b[0m",
      "\u001b[0;31mZeroDivisionError\u001b[0m: division by zero"
     ]
    }
   ],
   "source": [
    "a = 12 / 0 "
   ]
  },
  {
   "cell_type": "code",
   "execution_count": 2,
   "id": "e6a9b45e",
   "metadata": {},
   "outputs": [
    {
     "name": "stdout",
     "output_type": "stream",
     "text": [
      "Error!!!\n"
     ]
    }
   ],
   "source": [
    "#에러 표시\n",
    "try: \n",
    "    a = 12 / 0 \n",
    "except:\n",
    "    print('Error!!!')"
   ]
  },
  {
   "cell_type": "code",
   "execution_count": 3,
   "id": "dce8a229",
   "metadata": {},
   "outputs": [],
   "source": [
    "# 에러무시\n",
    "try: \n",
    "    a = 12 / 0 \n",
    "except:\n",
    "    pass"
   ]
  },
  {
   "cell_type": "code",
   "execution_count": 4,
   "id": "07d2e88c",
   "metadata": {},
   "outputs": [
    {
     "name": "stdout",
     "output_type": "stream",
     "text": [
      "에러의 원인은 division by zero\n"
     ]
    }
   ],
   "source": [
    "# 에러 종류에 따라 다르게 동작\n",
    "try: \n",
    "    a = 12 / 0 \n",
    "except Exception as e:\n",
    "    print('에러의 원인은', e)"
   ]
  },
  {
   "cell_type": "code",
   "execution_count": null,
   "id": "e601f2ae",
   "metadata": {},
   "outputs": [],
   "source": []
  }
 ],
 "metadata": {
  "kernelspec": {
   "display_name": "Python 3 (ipykernel)",
   "language": "python",
   "name": "python3"
  },
  "language_info": {
   "codemirror_mode": {
    "name": "ipython",
    "version": 3
   },
   "file_extension": ".py",
   "mimetype": "text/x-python",
   "name": "python",
   "nbconvert_exporter": "python",
   "pygments_lexer": "ipython3",
   "version": "3.9.13"
  }
 },
 "nbformat": 4,
 "nbformat_minor": 5
}
