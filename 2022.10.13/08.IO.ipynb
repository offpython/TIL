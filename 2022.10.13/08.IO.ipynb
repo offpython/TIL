{
 "cells": [
  {
   "cell_type": "code",
   "execution_count": 2,
   "id": "6a8c7ffa",
   "metadata": {},
   "outputs": [
    {
     "name": "stdout",
     "output_type": "stream",
     "text": [
      "Hello World\n"
     ]
    }
   ],
   "source": [
    "print('Hello World')"
   ]
  },
  {
   "cell_type": "code",
   "execution_count": 3,
   "id": "c8e472a0",
   "metadata": {},
   "outputs": [],
   "source": [
    "import sys"
   ]
  },
  {
   "cell_type": "code",
   "execution_count": 9,
   "id": "9e22869c",
   "metadata": {},
   "outputs": [
    {
     "name": "stderr",
     "output_type": "stream",
     "text": [
      "Welcome to  Python\n"
     ]
    }
   ],
   "source": [
    "# 파일로 출력\n",
    "\n",
    "print('Welcome to', ' Python', file=sys.stderr)"
   ]
  },
  {
   "cell_type": "code",
   "execution_count": 11,
   "id": "14d99e6d",
   "metadata": {},
   "outputs": [],
   "source": [
    "f = open('test.txt','w')   # 파일 오픈. write 상태로"
   ]
  },
  {
   "cell_type": "code",
   "execution_count": 12,
   "id": "28727b42",
   "metadata": {},
   "outputs": [],
   "source": [
    "print('file write', file=f)\n",
    "f.close() #파일 닫기 "
   ]
  },
  {
   "cell_type": "markdown",
   "id": "6898d412",
   "metadata": {},
   "source": [
    "## File IO\n",
    "file 입출력을 다루다 보면 print를 사용할 수도 있지만 open을 사용하는게 좋다."
   ]
  },
  {
   "cell_type": "code",
   "execution_count": 14,
   "id": "97ad2093",
   "metadata": {},
   "outputs": [],
   "source": [
    "f = open('test.txt', 'w')\n",
    "f.write('plow deep\\nWhile sluggards sleep')\n",
    "f.close()"
   ]
  },
  {
   "cell_type": "code",
   "execution_count": 15,
   "id": "79329234",
   "metadata": {},
   "outputs": [
    {
     "data": {
      "text/plain": [
       "'plow deep\\nWhile sluggards sleep'"
      ]
     },
     "execution_count": 15,
     "metadata": {},
     "output_type": "execute_result"
    }
   ],
   "source": [
    "f = open('test.txt', 'r')\n",
    "f.read()"
   ]
  },
  {
   "cell_type": "code",
   "execution_count": null,
   "id": "2088a90c",
   "metadata": {},
   "outputs": [],
   "source": [
    "f.close()"
   ]
  }
 ],
 "metadata": {
  "kernelspec": {
   "display_name": "Python 3 (ipykernel)",
   "language": "python",
   "name": "python3"
  },
  "language_info": {
   "codemirror_mode": {
    "name": "ipython",
    "version": 3
   },
   "file_extension": ".py",
   "mimetype": "text/x-python",
   "name": "python",
   "nbconvert_exporter": "python",
   "pygments_lexer": "ipython3",
   "version": "3.9.13"
  }
 },
 "nbformat": 4,
 "nbformat_minor": 5
}
