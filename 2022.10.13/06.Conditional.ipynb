{
 "cells": [
  {
   "cell_type": "code",
   "execution_count": 5,
   "id": "000ba449",
   "metadata": {},
   "outputs": [
    {
     "name": "stdout",
     "output_type": "stream",
     "text": [
      "a와 b의 값이 같습니다.\n"
     ]
    }
   ],
   "source": [
    "import requests   # 패키지 불러오기 \n",
    "\n",
    "\n",
    "a = 1\n",
    "b = 1\n",
    "\n",
    "if a==b:\n",
    "    print('a와 b의 값이 같습니다.')\n",
    "    \n",
    "if a!=b:\n",
    "    print('a와 b의 값이 다릅니다.')"
   ]
  },
  {
   "cell_type": "code",
   "execution_count": 6,
   "id": "689db475",
   "metadata": {},
   "outputs": [
    {
     "name": "stdout",
     "output_type": "stream",
     "text": [
      "a와 b의 값이 같습니다.\n"
     ]
    }
   ],
   "source": [
    "a = 1\n",
    "b = 1\n",
    "\n",
    "if a==b:\n",
    "    print('a와 b의 값이 같습니다.')\n",
    "else:\n",
    "    print('a와 b의 값이 다릅니다.')"
   ]
  },
  {
   "cell_type": "code",
   "execution_count": null,
   "id": "15a61451",
   "metadata": {},
   "outputs": [],
   "source": []
  }
 ],
 "metadata": {
  "kernelspec": {
   "display_name": "Python 3 (ipykernel)",
   "language": "python",
   "name": "python3"
  },
  "language_info": {
   "codemirror_mode": {
    "name": "ipython",
    "version": 3
   },
   "file_extension": ".py",
   "mimetype": "text/x-python",
   "name": "python",
   "nbconvert_exporter": "python",
   "pygments_lexer": "ipython3",
   "version": "3.9.13"
  }
 },
 "nbformat": 4,
 "nbformat_minor": 5
}
